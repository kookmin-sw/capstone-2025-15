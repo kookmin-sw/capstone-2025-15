{
 "cells": [
  {
   "cell_type": "code",
   "execution_count": 7,
   "metadata": {},
   "outputs": [
    {
     "name": "stdout",
     "output_type": "stream",
     "text": [
      "Defaulting to user installation because normal site-packages is not writeable\n",
      "Requirement already satisfied: konlpy in /Users/choigeonung/Library/Python/3.9/lib/python/site-packages (0.6.0)\n",
      "Requirement already satisfied: fugashi in /Users/choigeonung/Library/Python/3.9/lib/python/site-packages (1.4.0)\n",
      "Requirement already satisfied: JPype1>=0.7.0 in /Users/choigeonung/Library/Python/3.9/lib/python/site-packages (from konlpy) (1.5.2)\n",
      "Requirement already satisfied: lxml>=4.1.0 in /Users/choigeonung/Library/Python/3.9/lib/python/site-packages (from konlpy) (5.3.1)\n",
      "Requirement already satisfied: numpy>=1.6 in /Users/choigeonung/Library/Python/3.9/lib/python/site-packages (from konlpy) (2.0.2)\n",
      "Requirement already satisfied: packaging in /Users/choigeonung/Library/Python/3.9/lib/python/site-packages (from JPype1>=0.7.0->konlpy) (24.0)\n"
     ]
    }
   ],
   "source": [
    "!pip install konlpy fugashi\n"
   ]
  },
  {
   "cell_type": "code",
   "execution_count": 8,
   "metadata": {},
   "outputs": [
    {
     "name": "stdout",
     "output_type": "stream",
     "text": [
      "Defaulting to user installation because normal site-packages is not writeable\n",
      "Requirement already satisfied: konlpy in /Users/choigeonung/Library/Python/3.9/lib/python/site-packages (0.6.0)\n",
      "Requirement already satisfied: JPype1>=0.7.0 in /Users/choigeonung/Library/Python/3.9/lib/python/site-packages (from konlpy) (1.5.2)\n",
      "Requirement already satisfied: lxml>=4.1.0 in /Users/choigeonung/Library/Python/3.9/lib/python/site-packages (from konlpy) (5.3.1)\n",
      "Requirement already satisfied: numpy>=1.6 in /Users/choigeonung/Library/Python/3.9/lib/python/site-packages (from konlpy) (2.0.2)\n",
      "Requirement already satisfied: packaging in /Users/choigeonung/Library/Python/3.9/lib/python/site-packages (from JPype1>=0.7.0->konlpy) (24.0)\n"
     ]
    }
   ],
   "source": [
    "!pip install konlpy"
   ]
  },
  {
   "cell_type": "code",
   "execution_count": 9,
   "metadata": {},
   "outputs": [
    {
     "name": "stdout",
     "output_type": "stream",
     "text": [
      "Defaulting to user installation because normal site-packages is not writeable\n",
      "Requirement already satisfied: mecab-python3 in /Users/choigeonung/Library/Python/3.9/lib/python/site-packages (1.0.10)\n",
      "Note: you may need to restart the kernel to use updated packages.\n"
     ]
    }
   ],
   "source": [
    "pip install mecab-python3"
   ]
  },
  {
   "cell_type": "code",
   "execution_count": 6,
   "metadata": {},
   "outputs": [
    {
     "name": "stdout",
     "output_type": "stream",
     "text": [
      "출구\tNNG,*,F,출구,*,*,*,*\n",
      "가\tJKS,*,F,가,*,*,*,*\n",
      "어디\tNP,*,F,어디,*,*,*,*\n",
      "에\tJKB,*,F,에,*,*,*,*\n",
      "있\tVV,*,T,있,*,*,*,*\n",
      "나요\tEF,*,F,나요,*,*,*,*\n",
      "?\tSF,*,*,*,*,*,*,*\n",
      "EOS\n",
      "\n"
     ]
    }
   ],
   "source": [
    "import MeCab\n",
    "\n",
    "tagger = MeCab.Tagger(\n",
    "    '-d /opt/homebrew/lib/mecab/dic/mecab-ko-dic -r /opt/homebrew/etc/mecabrc'\n",
    ")\n",
    "\n",
    "print(tagger.parse(\"출구가 어디에 있나요?\"))\n"
   ]
  }
 ],
 "metadata": {
  "kernelspec": {
   "display_name": "Python 3",
   "language": "python",
   "name": "python3"
  },
  "language_info": {
   "codemirror_mode": {
    "name": "ipython",
    "version": 3
   },
   "file_extension": ".py",
   "mimetype": "text/x-python",
   "name": "python",
   "nbconvert_exporter": "python",
   "pygments_lexer": "ipython3",
   "version": "3.9.6"
  }
 },
 "nbformat": 4,
 "nbformat_minor": 2
}

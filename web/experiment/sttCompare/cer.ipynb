{
 "cells": [
  {
   "cell_type": "code",
   "execution_count": 1,
   "id": "b7a6923a",
   "metadata": {},
   "outputs": [
    {
     "name": "stdout",
     "output_type": "stream",
     "text": [
      "Collecting jiwer\n",
      "  Using cached jiwer-3.1.0-py3-none-any.whl.metadata (2.6 kB)\n",
      "Collecting click>=8.1.8 (from jiwer)\n",
      "  Downloading click-8.2.0-py3-none-any.whl.metadata (2.5 kB)\n",
      "Requirement already satisfied: rapidfuzz>=3.9.7 in c:\\users\\user\\anaconda3\\lib\\site-packages (from jiwer) (3.13.0)\n",
      "Requirement already satisfied: colorama in c:\\users\\user\\anaconda3\\lib\\site-packages (from click>=8.1.8->jiwer) (0.4.6)\n",
      "Using cached jiwer-3.1.0-py3-none-any.whl (22 kB)\n",
      "Downloading click-8.2.0-py3-none-any.whl (102 kB)\n",
      "Installing collected packages: click, jiwer\n",
      "  Attempting uninstall: click\n",
      "    Found existing installation: click 8.0.4\n",
      "    Uninstalling click-8.0.4:\n",
      "      Successfully uninstalled click-8.0.4\n",
      "Successfully installed click-8.2.0 jiwer-3.1.0\n",
      "Note: you may need to restart the kernel to use updated packages.\n"
     ]
    },
    {
     "name": "stderr",
     "output_type": "stream",
     "text": [
      "\n",
      "[notice] A new release of pip is available: 25.0.1 -> 25.1.1\n",
      "[notice] To update, run: python.exe -m pip install --upgrade pip\n"
     ]
    }
   ],
   "source": [
    "%pip install jiwer"
   ]
  },
  {
   "cell_type": "code",
   "execution_count": 2,
   "id": "d6154462",
   "metadata": {},
   "outputs": [],
   "source": [
    "import pandas as pd\n",
    "import jiwer\n",
    "from jiwer import cer, wer, Compose, RemoveWhiteSpace\n",
    "import os\n",
    "import re"
   ]
  },
  {
   "cell_type": "code",
   "execution_count": null,
   "id": "dced0a28",
   "metadata": {},
   "outputs": [
    {
     "name": "stdout",
     "output_type": "stream",
     "text": [
      "137\n",
      "0        CLOVA\n",
      "1        CLOVA\n",
      "2        CLOVA\n",
      "3        CLOVA\n",
      "4        CLOVA\n",
      "        ...   \n",
      "132    Whisper\n",
      "133    Whisper\n",
      "134    Whisper\n",
      "135    Whisper\n",
      "136    Whisper\n",
      "Name: engine, Length: 137, dtype: object\n"
     ]
    }
   ],
   "source": [
    "df = pd.read_csv('stt_results.csv')\n",
    "\n",
    "dfs = pd.read_csv('stt_whisper_results.csv')\n",
    "data_list = pd.concat([df, dfs], ignore_index=True)\n",
    "\n",
    "print(len(data_list))  # 두 CSV 파일 행 합친 개수\n",
    "print(data_list[\"engine\"])\n",
    "\n",
    "gdfs = pd.read_csv('stt_cer_results.csv')"
   ]
  },
  {
   "cell_type": "code",
   "execution_count": 24,
   "id": "06c291aa",
   "metadata": {},
   "outputs": [],
   "source": [
    "def colculate_cer(ref, hyp_txt):\n",
    "    cer_s = cer(ref, hyp_txt)\n",
    "    return cer_s"
   ]
  },
  {
   "cell_type": "code",
   "execution_count": null,
   "id": "7bcd409b",
   "metadata": {},
   "outputs": [],
   "source": []
  },
  {
   "cell_type": "code",
   "execution_count": 19,
   "id": "c1e9da93",
   "metadata": {},
   "outputs": [],
   "source": [
    "p_double = re.compile(r'\\(([^)]+)\\)/\\([^)]+\\)')\n",
    "p_mention = re.compile(r'@([가-힣]+)\\d*')\n",
    "p_slash = re.compile(r'/\\(([^)]+)\\)*')\n",
    "p_del1 = re.compile(r'\\(*')\n",
    "p_del2 = re.compile(r'\\)*')\n",
    "p_speaker = re.compile(r'\\b\\d+:\\s*')\n",
    "p_space = re.compile(r'\\s+')\n",
    "\n",
    "def clean_line(line: str) -> str:\n",
    "    # 1) 이중 괄호 표기: (A)/(B) → A\n",
    "    line = p_double.sub(r'\\1', line)\n",
    "    # 2) 멘션 삭제: @이름10 등\n",
    "    line = p_mention.sub(r'\\1', line)\n",
    "    # 3) /(?) 제거: \"/(idiom)\" → \"\"\n",
    "    line = p_slash.sub('', line)\n",
    "    # 괄호 삭제\n",
    "    line = p_del1.sub('', line)\n",
    "    line = p_del2.sub('', line)\n",
    "    # 4) 화자 번호 삭제: \"4:\" or \"10:\" etc.\n",
    "    line = p_speaker.sub('', line)\n",
    "    # 6) 중복 공백→한 칸\n",
    "    line = p_space.sub(' ', line).strip()\n",
    "    return line\n",
    "\n",
    "\n",
    "def clean_text(infile: str, outfile: str):\n",
    "    infile = \"text.txt\"\n",
    "    outfile = \"text.txt\"\n",
    "\n",
    "    with open(infile, 'r', encoding='utf-8') as fin:\n",
    "        raws = [line.rstrip('\\n') for line in fin if line.strip()]\n",
    "    rst = []\n",
    "    for s in raws:\n",
    "        out = clean_line(s)\n",
    "        if out:\n",
    "            rst.append(out + '\\n')\n",
    "            print(out)\n",
    "    with open(outfile, 'w', encoding='utf-8') as fout:\n",
    "        fout.writelines(rst)"
   ]
  },
  {
   "cell_type": "code",
   "execution_count": null,
   "id": "e54223a9",
   "metadata": {},
   "outputs": [],
   "source": [
    "\n",
    "def process_one_(script_dir, basename, engine):\n",
    "    \"\"\"\n",
    "    audio_dir: .wav 파일 폴더\n",
    "    script_dir: 정답 스크립트(.txt) 폴더\n",
    "    json_dir: 메타데이터 폴더\n",
    "    basename: 확장자 제외 공통 파일명\n",
    "    engine: STT_FUNCTIONS 키\n",
    "    \"\"\"\n",
    "    domain = os.path.basename(script_dir)\n",
    "\n",
    "    # 2) 정답 스크립트(ground-truth) GPU 전처리\n",
    "    txt_path = os.path.join(script_dir, f\"{basename}.txt\")\n",
    "    with open(txt_path, encoding='utf-8') as f:\n",
    "        lines = [line.strip() for line in f if line.strip()]\n",
    "\n",
    "    hyp_txt = data_list[(data_list[\"basename\"]==basename)&(data_list[\"engine\"]==engine)][\"transcript\"].iloc[0]\n",
    "    # 하나로 합친 뒤 WER\n",
    "    ref = \" \".join(lines)\n",
    "    hyp_txt = hyp_txt.replace('\\n', ' ')\n",
    "    file_cer = colculate_cer(ref, hyp_txt)\n",
    "    file_wer = data_list[(data_list[\"basename\"]==basename)&(data_list[\"engine\"]==engine)][\"wer\"].iloc[0]\n",
    "    # 5) 비용 계산 (분당)\n",
    "    stt_time_sec = data_list[(data_list[\"basename\"]==basename)&(data_list[\"engine\"]==engine)][\"stt_time_sec\"].iloc[0]\n",
    "    cost = data_list[\n",
    "    (data_list[\"basename\"] == basename) &\n",
    "    (data_list[\"engine\"] == engine)\n",
    "        ][\"cost_usd\"].iloc[0]\n",
    "    return {\n",
    "        'basename':      basename,\n",
    "        'domain':        domain,\n",
    "        'engine':        engine,\n",
    "        'stt_time_sec': stt_time_sec,\n",
    "        'cost' : cost,\n",
    "        'wer':           round(file_wer, 3),\n",
    "        'cer':  round(file_cer, 3)\n",
    "    }"
   ]
  },
  {
   "cell_type": "code",
   "execution_count": 21,
   "id": "3a9018dc",
   "metadata": {},
   "outputs": [
    {
     "name": "stdout",
     "output_type": "stream",
     "text": [
      "['경제', '교육', '사회', '생활', '세계', '스포츠', '연예', '의료', '정치']\n"
     ]
    }
   ],
   "source": [
    "root_audio_dir = './VS1/data'\n",
    "root_script_dir = './VS1/data'\n",
    "domains = [\n",
    "    d for d in os.listdir(root_script_dir)\n",
    "    if os.path.isdir(os.path.join(root_script_dir, d))\n",
    "]\n",
    "engines = [\n",
    "    \"Whisper\",\n",
    "    \"CLOVA\",\n",
    "    \"Google STT\",\n",
    "    \"AWS\",\n",
    "    \"Azure\"\n",
    "]\n",
    "print(domains)"
   ]
  },
  {
   "cell_type": "code",
   "execution_count": 29,
   "id": "5c18706c",
   "metadata": {},
   "outputs": [],
   "source": [
    "import glob\n",
    "results = []\n",
    "\n",
    "for domain in domains:\n",
    "    script_dir = os.path.join(root_script_dir, domain)\n",
    "\n",
    "    basenames = [\n",
    "        os.path.splitext(os.path.basename(p))[0]\n",
    "        for p in glob.glob(os.path.join(script_dir, '*.txt'))\n",
    "    ]\n",
    "\n",
    "    for b in basenames:\n",
    "        for eng in engines:\n",
    "            result = process_one_(script_dir, b, eng)\n",
    "            results.append(result)\n"
   ]
  },
  {
   "cell_type": "code",
   "execution_count": 30,
   "id": "6755d5e6",
   "metadata": {},
   "outputs": [],
   "source": [
    "gdf = pd.DataFrame(results)\n",
    "\n",
    "    # 8) 파일별 전사결과도 별도 CSV로\n",
    "gdf.to_csv(\n",
    "        'stt_cer_results.csv', index=False, encoding='utf-8-sig'\n",
    "    )"
   ]
  },
  {
   "cell_type": "code",
   "execution_count": null,
   "id": "d370a690",
   "metadata": {},
   "outputs": [],
   "source": [
    "\n",
    "def plot_stt_summary_wer(summary_df):\n",
    "    # ✅ 한글 폰트 자동 설정\n",
    "    font_path = \"\"\n",
    "    font_list = fm.findSystemFonts(fontpaths=None, fontext='ttf')\n",
    "    for font in font_list:\n",
    "        if \"SUITE\" in font or \"Malgun\" in font:\n",
    "            font_path = font\n",
    "            break\n",
    "    if font_path:\n",
    "        font_name = fm.FontProperties(fname=font_path).get_name()\n",
    "        plt.rcParams[\"font.family\"] = font_name\n",
    "        plt.rcParams[\"axes.unicode_minus\"] = False\n",
    "    print(font_path)\n",
    "\n",
    "    # ✅ 비용 단위 정리\n",
    "    summary_df = summary_df.copy()\n",
    "    summary_df[\"wer\"] = summary_df[\"wer\"].round(4)\n",
    "    summary_df[\"cost_usd\"] = (summary_df[\"cost_usd\"] * 1000).round(2)  # 원 단위\n",
    "\n",
    "    # 📊 표 출력\n",
    "    print(\"📋 STT 시스템별 wer / 처리 시간 / 비용 요약 (단위: %, 초, 원)\")\n",
    "    display(summary_df[[\"engine\", \"wer\", \"stt_time_sec\", \"cost_usd\"]])\n",
    "\n",
    "    # 🎨 시각화\n",
    "    fig, ax1 = plt.subplots(figsize=(12, 6))\n",
    "\n",
    "    # wer (막대)\n",
    "    bar_container = ax1.bar(summary_df[\"engine\"], summary_df[\"wer\"],\n",
    "                            color=\"salmon\", label=\"wer\")\n",
    "    ax1.set_ylabel(\"wer\", color=\"salmon\")\n",
    "    ax1.tick_params(axis='y', labelcolor=\"salmon\")\n",
    "    ax1.set_ylim(0, max(summary_df[\"wer\"]) * 1.2)\n",
    "\n",
    "    # 처리 시간/비용 (선)\n",
    "    ax2 = ax1.twinx()\n",
    "    line1 = ax2.plot(summary_df[\"engine\"], summary_df[\"stt_time_sec\"],\n",
    "                     color=\"blue\", marker=\"o\", label=\"처리 시간 (초)\")\n",
    "    line2 = ax2.plot(summary_df[\"engine\"], summary_df[\"cost_usd\"],\n",
    "                     color=\"green\", marker=\"o\", label=\"비용 (원)\")  # ✅ 초록색으로 변경\n",
    "    ax2.set_ylabel(\"처리 시간 / 비용\", color=\"black\")\n",
    "    ax2.tick_params(axis='y')\n",
    "\n",
    "    # 범례 병합\n",
    "    lines = [bar_container[0]] + line1 + line2\n",
    "    labels = [line.get_label() for line in lines]\n",
    "    ax1.legend(lines, labels, loc=\"upper center\")\n",
    "\n",
    "    plt.title(\"STT 시스템별 성능 비교 (wer + 처리 시간 + 비용)\")\n",
    "    plt.grid(axis=\"y\")\n",
    "    plt.tight_layout()\n",
    "    plt.show()\n",
    "\n",
    "\n",
    "# tnwjd\n",
    "df_results = pd.DataFrame(data_list)\n",
    "summary_df = df_results.groupby([\"engine\"]).agg({\n",
    "    \"stt_time_sec\": \"mean\",\n",
    "    \"wer\": \"mean\",\n",
    "    \"cost_usd\": \"mean\"\n",
    "}).reset_index().round(4)\n",
    "\n",
    "plot_stt_summary_wer(summary_df)"
   ]
  }
 ],
 "metadata": {
  "kernelspec": {
   "display_name": "base",
   "language": "python",
   "name": "python3"
  },
  "language_info": {
   "codemirror_mode": {
    "name": "ipython",
    "version": 3
   },
   "file_extension": ".py",
   "mimetype": "text/x-python",
   "name": "python",
   "nbconvert_exporter": "python",
   "pygments_lexer": "ipython3",
   "version": "3.10.9"
  }
 },
 "nbformat": 4,
 "nbformat_minor": 5
}
